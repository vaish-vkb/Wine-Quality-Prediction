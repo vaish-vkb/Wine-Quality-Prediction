{
 "cells": [
  {
   "cell_type": "markdown",
   "id": "a34308f8",
   "metadata": {},
   "source": [
    "# WINE QUALITY PREDICTION"
   ]
  },
  {
   "cell_type": "code",
   "execution_count": 1,
   "id": "874bf91c",
   "metadata": {},
   "outputs": [],
   "source": [
    "import pandas as pd\n",
    "import numpy as np\n",
    "import matplotlib.pyplot as plt\n",
    "from sklearn.metrics import confusion_matrix, classification_report,accuracy_score\n",
    "from sklearn.model_selection import train_test_split\n",
    "from sklearn.tree import DecisionTreeClassifier\n",
    "from sklearn.linear_model import LogisticRegression\n",
    "from sklearn.neighbors import KNeighborsClassifier\n",
    "from sklearn.svm import SVC\n",
    "from sklearn.ensemble import RandomForestClassifier"
   ]
  },
  {
   "cell_type": "markdown",
   "id": "f6402f97",
   "metadata": {},
   "source": [
    "## 1. READING FROM DATASET"
   ]
  },
  {
   "cell_type": "code",
   "execution_count": 2,
   "id": "0f4307ae",
   "metadata": {},
   "outputs": [
    {
     "data": {
      "text/html": [
       "<div>\n",
       "<style scoped>\n",
       "    .dataframe tbody tr th:only-of-type {\n",
       "        vertical-align: middle;\n",
       "    }\n",
       "\n",
       "    .dataframe tbody tr th {\n",
       "        vertical-align: top;\n",
       "    }\n",
       "\n",
       "    .dataframe thead th {\n",
       "        text-align: right;\n",
       "    }\n",
       "</style>\n",
       "<table border=\"1\" class=\"dataframe\">\n",
       "  <thead>\n",
       "    <tr style=\"text-align: right;\">\n",
       "      <th></th>\n",
       "      <th>fixed acidity</th>\n",
       "      <th>volatile acidity</th>\n",
       "      <th>citric acid</th>\n",
       "      <th>residual sugar</th>\n",
       "      <th>chlorides</th>\n",
       "      <th>free sulfur dioxide</th>\n",
       "      <th>total sulfur dioxide</th>\n",
       "      <th>density</th>\n",
       "      <th>pH</th>\n",
       "      <th>sulphates</th>\n",
       "      <th>alcohol</th>\n",
       "      <th>quality</th>\n",
       "    </tr>\n",
       "  </thead>\n",
       "  <tbody>\n",
       "    <tr>\n",
       "      <th>0</th>\n",
       "      <td>7.4</td>\n",
       "      <td>0.70</td>\n",
       "      <td>0.00</td>\n",
       "      <td>1.9</td>\n",
       "      <td>0.076</td>\n",
       "      <td>11.0</td>\n",
       "      <td>34.0</td>\n",
       "      <td>0.9978</td>\n",
       "      <td>3.51</td>\n",
       "      <td>0.56</td>\n",
       "      <td>9.4</td>\n",
       "      <td>5</td>\n",
       "    </tr>\n",
       "    <tr>\n",
       "      <th>1</th>\n",
       "      <td>7.8</td>\n",
       "      <td>0.88</td>\n",
       "      <td>0.00</td>\n",
       "      <td>2.6</td>\n",
       "      <td>0.098</td>\n",
       "      <td>25.0</td>\n",
       "      <td>67.0</td>\n",
       "      <td>0.9968</td>\n",
       "      <td>3.20</td>\n",
       "      <td>0.68</td>\n",
       "      <td>9.8</td>\n",
       "      <td>5</td>\n",
       "    </tr>\n",
       "    <tr>\n",
       "      <th>2</th>\n",
       "      <td>7.8</td>\n",
       "      <td>0.76</td>\n",
       "      <td>0.04</td>\n",
       "      <td>2.3</td>\n",
       "      <td>0.092</td>\n",
       "      <td>15.0</td>\n",
       "      <td>54.0</td>\n",
       "      <td>0.9970</td>\n",
       "      <td>3.26</td>\n",
       "      <td>0.65</td>\n",
       "      <td>9.8</td>\n",
       "      <td>5</td>\n",
       "    </tr>\n",
       "    <tr>\n",
       "      <th>3</th>\n",
       "      <td>11.2</td>\n",
       "      <td>0.28</td>\n",
       "      <td>0.56</td>\n",
       "      <td>1.9</td>\n",
       "      <td>0.075</td>\n",
       "      <td>17.0</td>\n",
       "      <td>60.0</td>\n",
       "      <td>0.9980</td>\n",
       "      <td>3.16</td>\n",
       "      <td>0.58</td>\n",
       "      <td>9.8</td>\n",
       "      <td>6</td>\n",
       "    </tr>\n",
       "    <tr>\n",
       "      <th>4</th>\n",
       "      <td>7.4</td>\n",
       "      <td>0.70</td>\n",
       "      <td>0.00</td>\n",
       "      <td>1.9</td>\n",
       "      <td>0.076</td>\n",
       "      <td>11.0</td>\n",
       "      <td>34.0</td>\n",
       "      <td>0.9978</td>\n",
       "      <td>3.51</td>\n",
       "      <td>0.56</td>\n",
       "      <td>9.4</td>\n",
       "      <td>5</td>\n",
       "    </tr>\n",
       "  </tbody>\n",
       "</table>\n",
       "</div>"
      ],
      "text/plain": [
       "   fixed acidity  volatile acidity  citric acid  residual sugar  chlorides  \\\n",
       "0            7.4              0.70         0.00             1.9      0.076   \n",
       "1            7.8              0.88         0.00             2.6      0.098   \n",
       "2            7.8              0.76         0.04             2.3      0.092   \n",
       "3           11.2              0.28         0.56             1.9      0.075   \n",
       "4            7.4              0.70         0.00             1.9      0.076   \n",
       "\n",
       "   free sulfur dioxide  total sulfur dioxide  density    pH  sulphates  \\\n",
       "0                 11.0                  34.0   0.9978  3.51       0.56   \n",
       "1                 25.0                  67.0   0.9968  3.20       0.68   \n",
       "2                 15.0                  54.0   0.9970  3.26       0.65   \n",
       "3                 17.0                  60.0   0.9980  3.16       0.58   \n",
       "4                 11.0                  34.0   0.9978  3.51       0.56   \n",
       "\n",
       "   alcohol  quality  \n",
       "0      9.4        5  \n",
       "1      9.8        5  \n",
       "2      9.8        5  \n",
       "3      9.8        6  \n",
       "4      9.4        5  "
      ]
     },
     "execution_count": 2,
     "metadata": {},
     "output_type": "execute_result"
    }
   ],
   "source": [
    "df = pd.read_csv(r'C:\\Users\\vaish\\Downloads\\Wine Quality Detection\\winequality-red.csv')\n",
    "df.head()"
   ]
  },
  {
   "cell_type": "code",
   "execution_count": 3,
   "id": "f53670d6",
   "metadata": {},
   "outputs": [
    {
     "data": {
      "text/plain": [
       "(1599, 12)"
      ]
     },
     "execution_count": 3,
     "metadata": {},
     "output_type": "execute_result"
    }
   ],
   "source": [
    "df.shape"
   ]
  },
  {
   "cell_type": "code",
   "execution_count": 4,
   "id": "114e1673",
   "metadata": {},
   "outputs": [
    {
     "data": {
      "text/plain": [
       "fixed acidity           0\n",
       "volatile acidity        0\n",
       "citric acid             0\n",
       "residual sugar          0\n",
       "chlorides               0\n",
       "free sulfur dioxide     0\n",
       "total sulfur dioxide    0\n",
       "density                 0\n",
       "pH                      0\n",
       "sulphates               0\n",
       "alcohol                 0\n",
       "quality                 0\n",
       "dtype: int64"
      ]
     },
     "execution_count": 4,
     "metadata": {},
     "output_type": "execute_result"
    }
   ],
   "source": [
    "df.isnull().sum()"
   ]
  },
  {
   "cell_type": "code",
   "execution_count": 5,
   "id": "2a9c9eb9",
   "metadata": {},
   "outputs": [
    {
     "data": {
      "text/plain": [
       "fixed acidity           float64\n",
       "volatile acidity        float64\n",
       "citric acid             float64\n",
       "residual sugar          float64\n",
       "chlorides               float64\n",
       "free sulfur dioxide     float64\n",
       "total sulfur dioxide    float64\n",
       "density                 float64\n",
       "pH                      float64\n",
       "sulphates               float64\n",
       "alcohol                 float64\n",
       "quality                   int64\n",
       "dtype: object"
      ]
     },
     "execution_count": 5,
     "metadata": {},
     "output_type": "execute_result"
    }
   ],
   "source": [
    "df.dtypes"
   ]
  },
  {
   "cell_type": "code",
   "execution_count": 6,
   "id": "3ab09d91",
   "metadata": {},
   "outputs": [
    {
     "data": {
      "text/plain": [
       "5    681\n",
       "6    638\n",
       "7    199\n",
       "4     53\n",
       "8     18\n",
       "3     10\n",
       "Name: quality, dtype: int64"
      ]
     },
     "execution_count": 6,
     "metadata": {},
     "output_type": "execute_result"
    }
   ],
   "source": [
    "df['quality'].value_counts()"
   ]
  },
  {
   "cell_type": "markdown",
   "id": "1b4f2338",
   "metadata": {},
   "source": [
    "## 2. SPLITTING OF DATASET"
   ]
  },
  {
   "cell_type": "code",
   "execution_count": 7,
   "id": "99356c86",
   "metadata": {},
   "outputs": [
    {
     "name": "stdout",
     "output_type": "stream",
     "text": [
      "(1599, 11)\n",
      "(1599,)\n"
     ]
    }
   ],
   "source": [
    "x = df.iloc[:,:-1]\n",
    "y = df.iloc[:,-1]\n",
    "print(x.shape)\n",
    "print(y.shape)"
   ]
  },
  {
   "cell_type": "code",
   "execution_count": 8,
   "id": "a36f3240",
   "metadata": {},
   "outputs": [
    {
     "data": {
      "text/plain": [
       "0    5\n",
       "1    5\n",
       "2    5\n",
       "3    6\n",
       "4    5\n",
       "Name: quality, dtype: int64"
      ]
     },
     "execution_count": 8,
     "metadata": {},
     "output_type": "execute_result"
    }
   ],
   "source": [
    "y.head()"
   ]
  },
  {
   "cell_type": "code",
   "execution_count": 9,
   "id": "212b7fe3",
   "metadata": {},
   "outputs": [
    {
     "name": "stdout",
     "output_type": "stream",
     "text": [
      "(1199, 11)\n",
      "(400, 11)\n",
      "(1199,)\n",
      "(400,)\n"
     ]
    }
   ],
   "source": [
    "x_tr,x_te,y_tr,y_te = train_test_split(x,y,test_size=0.25)\n",
    "print(x_tr.shape)\n",
    "print(x_te.shape)\n",
    "print(y_tr.shape)\n",
    "print(y_te.shape)"
   ]
  },
  {
   "cell_type": "markdown",
   "id": "33766a9a",
   "metadata": {},
   "source": [
    "## MODELING"
   ]
  },
  {
   "cell_type": "markdown",
   "id": "45f6b86d",
   "metadata": {},
   "source": [
    "### 1. Decision Tree Classifier"
   ]
  },
  {
   "cell_type": "code",
   "execution_count": 10,
   "id": "28367f5b",
   "metadata": {},
   "outputs": [
    {
     "data": {
      "text/plain": [
       "DecisionTreeClassifier(max_depth=5, min_samples_split=10)"
      ]
     },
     "execution_count": 10,
     "metadata": {},
     "output_type": "execute_result"
    }
   ],
   "source": [
    "m1 = DecisionTreeClassifier(criterion='gini',max_depth=5,min_samples_split=10)\n",
    "m1.fit(x_tr,y_tr)"
   ]
  },
  {
   "cell_type": "code",
   "execution_count": 11,
   "id": "2e9c9597",
   "metadata": {},
   "outputs": [
    {
     "name": "stdout",
     "output_type": "stream",
     "text": [
      "Training score 0.6713928273561302\n",
      "Testing score 0.58\n"
     ]
    }
   ],
   "source": [
    "print('Training score',m1.score(x_tr,y_tr))\n",
    "print('Testing score',m1.score(x_te,y_te))"
   ]
  },
  {
   "cell_type": "code",
   "execution_count": 12,
   "id": "a61f5cda",
   "metadata": {},
   "outputs": [
    {
     "name": "stdout",
     "output_type": "stream",
     "text": [
      "[5 7 6 5 6 6 4 7 5 5 5 5 6 5 6 5 6 6 7 6 6 5 5 5 6 6 5 5 6 6 6 5 6 7 5 7 6\n",
      " 5 6 6 5 5 6 5 6 6 6 6 4 5 5 5 6 5 5 6 5 6 5 5 6 5 5 5 7 6 5 5 5 5 5 6 6 6\n",
      " 6 5 5 6 5 5 6 7 5 6 5 6 6 5 5 6 5 6 5 5 5 4 6 5 5 6 6 7 6 5 5 7 6 5 5 5 5\n",
      " 6 6 4 6 4 6 5 5 7 6 6 5 5 5 6 6 4 5 7 5 7 6 5 6 6 5 6 5 6 6 5 5 5 6 7 5 5\n",
      " 6 5 5 6 7 6 5 5 6 6 6 5 6 5 6 7 5 5 5 5 5 5 5 6 6 5 6 6 5 6 5 5 6 7 5 5 5\n",
      " 5 6 5 5 6 6 6 6 6 6 5 5 5 6 6 5 5 6 5 6 6 7 5 6 5 5 5 5 7 5 5 6 7 6 5 6 5\n",
      " 7 5 5 6 6 6 5 6 6 6 5 6 7 5 5 5 7 6 6 5 6 5 6 5 7 6 5 5 5 6 6 5 6 6 6 6 7\n",
      " 5 5 6 6 7 7 5 5 5 5 5 5 5 6 5 6 5 7 6 6 6 5 6 6 6 7 6 6 5 6 5 6 6 6 6 6 6\n",
      " 6 6 6 6 5 5 7 5 7 5 7 7 5 6 6 6 7 6 6 6 6 5 6 5 6 5 6 7 6 7 5 5 7 6 5 5 6\n",
      " 6 5 5 6 6 5 5 5 5 6 7 5 5 6 6 5 5 6 6 5 6 6 6 6 5 6 5 5 6 5 6 6 6 5 5 6 5\n",
      " 7 6 5 5 7 5 6 7 5 6 5 6 5 5 5 6 6 5 6 5 5 5 5 6 6 6 6 5 5 6]\n"
     ]
    }
   ],
   "source": [
    "ypred_m1 = m1.predict(x_te)\n",
    "print(ypred_m1)"
   ]
  },
  {
   "cell_type": "code",
   "execution_count": 13,
   "id": "d9d54085",
   "metadata": {},
   "outputs": [
    {
     "name": "stdout",
     "output_type": "stream",
     "text": [
      "[[  0   0   2   1   0   0]\n",
      " [  0   0   5   4   0   0]\n",
      " [  0   6 116  48   2   0]\n",
      " [  0   0  55  93  12   0]\n",
      " [  0   0   3  27  23   0]\n",
      " [  0   0   0   0   3   0]]\n",
      "              precision    recall  f1-score   support\n",
      "\n",
      "           3       0.00      0.00      0.00         3\n",
      "           4       0.00      0.00      0.00         9\n",
      "           5       0.64      0.67      0.66       172\n",
      "           6       0.54      0.58      0.56       160\n",
      "           7       0.57      0.43      0.49        53\n",
      "           8       0.00      0.00      0.00         3\n",
      "\n",
      "    accuracy                           0.58       400\n",
      "   macro avg       0.29      0.28      0.29       400\n",
      "weighted avg       0.57      0.58      0.57       400\n",
      "\n"
     ]
    },
    {
     "name": "stderr",
     "output_type": "stream",
     "text": [
      "C:\\Users\\vaish\\OneDrive\\Desktop\\Anaconda\\lib\\site-packages\\sklearn\\metrics\\_classification.py:1318: UndefinedMetricWarning: Precision and F-score are ill-defined and being set to 0.0 in labels with no predicted samples. Use `zero_division` parameter to control this behavior.\n",
      "  _warn_prf(average, modifier, msg_start, len(result))\n",
      "C:\\Users\\vaish\\OneDrive\\Desktop\\Anaconda\\lib\\site-packages\\sklearn\\metrics\\_classification.py:1318: UndefinedMetricWarning: Precision and F-score are ill-defined and being set to 0.0 in labels with no predicted samples. Use `zero_division` parameter to control this behavior.\n",
      "  _warn_prf(average, modifier, msg_start, len(result))\n",
      "C:\\Users\\vaish\\OneDrive\\Desktop\\Anaconda\\lib\\site-packages\\sklearn\\metrics\\_classification.py:1318: UndefinedMetricWarning: Precision and F-score are ill-defined and being set to 0.0 in labels with no predicted samples. Use `zero_division` parameter to control this behavior.\n",
      "  _warn_prf(average, modifier, msg_start, len(result))\n"
     ]
    }
   ],
   "source": [
    "cm_m1 = confusion_matrix(y_te,ypred_m1)\n",
    "print(cm_m1)\n",
    "print(classification_report(y_te,ypred_m1))"
   ]
  },
  {
   "cell_type": "markdown",
   "id": "b43770dc",
   "metadata": {},
   "source": [
    "### Random Forest Classifier"
   ]
  },
  {
   "cell_type": "code",
   "execution_count": 14,
   "id": "a62c8a29",
   "metadata": {},
   "outputs": [
    {
     "data": {
      "text/plain": [
       "RandomForestClassifier(max_depth=5, min_samples_split=10, n_estimators=50)"
      ]
     },
     "execution_count": 14,
     "metadata": {},
     "output_type": "execute_result"
    }
   ],
   "source": [
    "m2 = RandomForestClassifier(n_estimators=50, criterion='gini',max_depth=5,\n",
    "                            min_samples_split=10)\n",
    "m2.fit(x_tr,y_tr)"
   ]
  },
  {
   "cell_type": "code",
   "execution_count": 15,
   "id": "8b24e2e9",
   "metadata": {},
   "outputs": [
    {
     "name": "stdout",
     "output_type": "stream",
     "text": [
      "Training score 0.6864053377814846\n",
      "Testing score 0.6275\n"
     ]
    }
   ],
   "source": [
    "print('Training score',m2.score(x_tr,y_tr))\n",
    "print('Testing score',m2.score(x_te,y_te))"
   ]
  },
  {
   "cell_type": "code",
   "execution_count": 16,
   "id": "74d530d2",
   "metadata": {},
   "outputs": [
    {
     "name": "stdout",
     "output_type": "stream",
     "text": [
      "[5 6 6 5 6 6 5 6 5 5 5 5 6 5 5 5 6 6 6 6 6 5 5 5 6 6 5 5 6 6 6 5 5 7 5 6 6\n",
      " 5 6 5 5 6 6 5 6 6 6 6 5 5 6 5 6 6 5 6 5 5 6 5 6 5 5 5 6 6 5 5 5 5 5 6 6 6\n",
      " 5 5 5 6 6 5 6 6 5 6 5 6 6 5 5 6 5 7 5 5 5 5 5 5 5 6 6 6 6 5 5 6 6 5 5 5 5\n",
      " 6 6 5 6 5 5 5 5 6 5 6 5 6 5 6 6 5 5 6 5 6 5 5 6 6 5 6 5 6 5 5 5 5 6 6 5 5\n",
      " 6 5 5 6 6 6 5 5 5 6 6 5 6 5 6 6 6 5 5 5 5 5 5 6 5 5 6 6 5 6 5 5 6 6 5 5 5\n",
      " 5 5 6 5 6 6 6 6 6 5 5 5 5 6 5 5 6 6 5 6 6 7 6 5 5 5 5 5 6 5 5 5 7 6 5 6 5\n",
      " 6 5 5 6 6 5 5 5 6 6 5 6 6 5 5 5 6 5 5 6 6 5 6 5 6 6 5 5 5 6 5 5 6 6 6 5 6\n",
      " 5 5 6 6 6 6 5 5 6 5 5 5 6 6 5 6 5 6 6 6 6 5 5 6 6 6 6 6 5 6 5 6 5 6 6 6 6\n",
      " 6 5 6 6 5 5 7 5 6 5 7 6 5 6 6 6 6 6 6 6 6 5 6 5 5 5 6 6 6 6 5 5 6 6 6 5 6\n",
      " 6 5 5 5 6 5 5 6 5 6 7 5 5 6 6 5 5 6 6 6 6 6 6 5 5 6 5 5 6 5 5 6 6 5 5 6 5\n",
      " 6 6 5 5 6 5 5 7 5 6 5 5 5 5 5 6 6 5 6 5 5 5 5 6 5 6 5 5 5 6]\n"
     ]
    }
   ],
   "source": [
    "ypred_m2 = m2.predict(x_te)\n",
    "print(ypred_m2)"
   ]
  },
  {
   "cell_type": "code",
   "execution_count": 17,
   "id": "987c9569",
   "metadata": {},
   "outputs": [
    {
     "name": "stdout",
     "output_type": "stream",
     "text": [
      "[[  0   0   3   0   0   0]\n",
      " [  0   0   6   3   0   0]\n",
      " [  0   0 140  32   0   0]\n",
      " [  0   0  53 105   2   0]\n",
      " [  0   0   3  44   6   0]\n",
      " [  0   0   0   3   0   0]]\n",
      "              precision    recall  f1-score   support\n",
      "\n",
      "           3       0.00      0.00      0.00         3\n",
      "           4       0.00      0.00      0.00         9\n",
      "           5       0.68      0.81      0.74       172\n",
      "           6       0.56      0.66      0.61       160\n",
      "           7       0.75      0.11      0.20        53\n",
      "           8       0.00      0.00      0.00         3\n",
      "\n",
      "    accuracy                           0.63       400\n",
      "   macro avg       0.33      0.26      0.26       400\n",
      "weighted avg       0.62      0.63      0.59       400\n",
      "\n"
     ]
    },
    {
     "name": "stderr",
     "output_type": "stream",
     "text": [
      "C:\\Users\\vaish\\OneDrive\\Desktop\\Anaconda\\lib\\site-packages\\sklearn\\metrics\\_classification.py:1318: UndefinedMetricWarning: Precision and F-score are ill-defined and being set to 0.0 in labels with no predicted samples. Use `zero_division` parameter to control this behavior.\n",
      "  _warn_prf(average, modifier, msg_start, len(result))\n",
      "C:\\Users\\vaish\\OneDrive\\Desktop\\Anaconda\\lib\\site-packages\\sklearn\\metrics\\_classification.py:1318: UndefinedMetricWarning: Precision and F-score are ill-defined and being set to 0.0 in labels with no predicted samples. Use `zero_division` parameter to control this behavior.\n",
      "  _warn_prf(average, modifier, msg_start, len(result))\n",
      "C:\\Users\\vaish\\OneDrive\\Desktop\\Anaconda\\lib\\site-packages\\sklearn\\metrics\\_classification.py:1318: UndefinedMetricWarning: Precision and F-score are ill-defined and being set to 0.0 in labels with no predicted samples. Use `zero_division` parameter to control this behavior.\n",
      "  _warn_prf(average, modifier, msg_start, len(result))\n"
     ]
    }
   ],
   "source": [
    "cm_m2 = confusion_matrix(y_te,ypred_m2)\n",
    "print(cm_m2)\n",
    "print(classification_report(y_te,ypred_m2))"
   ]
  },
  {
   "cell_type": "markdown",
   "id": "3b7b8619",
   "metadata": {},
   "source": [
    "### Logistic Regression"
   ]
  },
  {
   "cell_type": "code",
   "execution_count": 18,
   "id": "27cf8fab",
   "metadata": {},
   "outputs": [
    {
     "data": {
      "text/plain": [
       "LogisticRegression(solver='liblinear')"
      ]
     },
     "execution_count": 18,
     "metadata": {},
     "output_type": "execute_result"
    }
   ],
   "source": [
    "m3 = LogisticRegression(solver='liblinear')\n",
    "m3.fit(x_tr,y_tr)"
   ]
  },
  {
   "cell_type": "code",
   "execution_count": 19,
   "id": "d08d2924",
   "metadata": {},
   "outputs": [
    {
     "name": "stdout",
     "output_type": "stream",
     "text": [
      "Training score 0.5829858215179317\n",
      "Testing score 0.57\n"
     ]
    }
   ],
   "source": [
    "print('Training score',m3.score(x_tr,y_tr))\n",
    "print('Testing score',m3.score(x_te,y_te))"
   ]
  },
  {
   "cell_type": "code",
   "execution_count": 20,
   "id": "9d490db9",
   "metadata": {},
   "outputs": [
    {
     "name": "stdout",
     "output_type": "stream",
     "text": [
      "[5 6 6 5 6 6 5 6 5 5 5 5 5 5 5 5 7 6 6 6 6 5 5 5 6 6 6 5 6 6 6 5 5 7 5 6 5\n",
      " 6 6 5 5 6 6 5 5 6 5 5 5 5 6 5 6 5 5 6 5 6 5 5 6 5 5 5 6 5 5 5 5 5 5 6 6 6\n",
      " 5 5 5 5 6 5 6 6 5 5 5 6 5 5 5 6 5 6 5 5 5 5 5 5 5 6 6 6 6 5 5 7 6 6 5 5 5\n",
      " 6 6 5 6 5 5 5 5 6 5 6 5 5 5 6 6 5 5 6 6 6 5 5 6 5 5 6 5 6 5 6 5 5 6 6 5 5\n",
      " 6 5 5 6 6 6 5 5 5 6 6 5 6 5 6 6 5 5 5 5 6 5 5 5 6 6 6 6 5 6 5 5 6 7 5 5 5\n",
      " 6 5 5 5 5 5 6 6 6 6 5 5 5 6 6 6 6 6 5 5 6 6 6 6 5 5 5 5 6 5 5 5 6 6 6 6 6\n",
      " 6 5 5 5 6 5 5 5 6 6 6 5 6 5 5 5 6 5 6 6 6 5 6 5 6 6 6 5 5 6 6 6 6 6 6 5 6\n",
      " 5 6 6 6 6 6 5 5 6 5 5 5 6 6 5 6 5 6 6 6 6 5 6 5 6 6 6 5 6 6 5 6 5 6 5 6 6\n",
      " 6 5 6 6 5 6 6 5 6 5 7 6 5 6 5 6 6 6 6 6 5 5 6 5 5 5 6 6 6 6 5 5 6 6 6 6 6\n",
      " 6 5 5 5 6 5 6 6 5 6 6 5 5 6 6 5 5 5 6 5 6 6 6 5 5 6 5 5 6 6 5 5 6 5 5 6 5\n",
      " 6 5 5 5 6 5 5 7 5 6 5 5 5 5 5 6 6 5 6 5 5 5 5 6 5 5 6 5 5 5]\n"
     ]
    }
   ],
   "source": [
    "ypred_m3 = m3.predict(x_te)\n",
    "print(ypred_m3)"
   ]
  },
  {
   "cell_type": "code",
   "execution_count": 21,
   "id": "0ca293e8",
   "metadata": {},
   "outputs": [
    {
     "name": "stdout",
     "output_type": "stream",
     "text": [
      "[[  0   0   3   0   0   0]\n",
      " [  0   0   7   2   0   0]\n",
      " [  0   0 132  39   1   0]\n",
      " [  0   0  63  94   3   0]\n",
      " [  0   0   3  48   2   0]\n",
      " [  0   0   0   3   0   0]]\n",
      "              precision    recall  f1-score   support\n",
      "\n",
      "           3       0.00      0.00      0.00         3\n",
      "           4       0.00      0.00      0.00         9\n",
      "           5       0.63      0.77      0.69       172\n",
      "           6       0.51      0.59      0.54       160\n",
      "           7       0.33      0.04      0.07        53\n",
      "           8       0.00      0.00      0.00         3\n",
      "\n",
      "    accuracy                           0.57       400\n",
      "   macro avg       0.25      0.23      0.22       400\n",
      "weighted avg       0.52      0.57      0.53       400\n",
      "\n"
     ]
    },
    {
     "name": "stderr",
     "output_type": "stream",
     "text": [
      "C:\\Users\\vaish\\OneDrive\\Desktop\\Anaconda\\lib\\site-packages\\sklearn\\metrics\\_classification.py:1318: UndefinedMetricWarning: Precision and F-score are ill-defined and being set to 0.0 in labels with no predicted samples. Use `zero_division` parameter to control this behavior.\n",
      "  _warn_prf(average, modifier, msg_start, len(result))\n",
      "C:\\Users\\vaish\\OneDrive\\Desktop\\Anaconda\\lib\\site-packages\\sklearn\\metrics\\_classification.py:1318: UndefinedMetricWarning: Precision and F-score are ill-defined and being set to 0.0 in labels with no predicted samples. Use `zero_division` parameter to control this behavior.\n",
      "  _warn_prf(average, modifier, msg_start, len(result))\n",
      "C:\\Users\\vaish\\OneDrive\\Desktop\\Anaconda\\lib\\site-packages\\sklearn\\metrics\\_classification.py:1318: UndefinedMetricWarning: Precision and F-score are ill-defined and being set to 0.0 in labels with no predicted samples. Use `zero_division` parameter to control this behavior.\n",
      "  _warn_prf(average, modifier, msg_start, len(result))\n"
     ]
    }
   ],
   "source": [
    "cm_m3 = confusion_matrix(y_te,ypred_m3)\n",
    "print(cm_m3)\n",
    "print(classification_report(y_te,ypred_m3))"
   ]
  },
  {
   "cell_type": "markdown",
   "id": "65fe1893",
   "metadata": {},
   "source": [
    "### KNN Classifier"
   ]
  },
  {
   "cell_type": "code",
   "execution_count": 22,
   "id": "dace1179",
   "metadata": {},
   "outputs": [],
   "source": [
    "from sklearn.neighbors import KNeighborsClassifier"
   ]
  },
  {
   "cell_type": "code",
   "execution_count": 23,
   "id": "dd0f2e2f",
   "metadata": {},
   "outputs": [
    {
     "data": {
      "text/plain": [
       "(1199, 11)"
      ]
     },
     "execution_count": 23,
     "metadata": {},
     "output_type": "execute_result"
    }
   ],
   "source": [
    "x_tr.shape"
   ]
  },
  {
   "cell_type": "code",
   "execution_count": 24,
   "id": "91aa91ad",
   "metadata": {},
   "outputs": [
    {
     "data": {
      "text/plain": [
       "KNeighborsClassifier(n_neighbors=27)"
      ]
     },
     "execution_count": 24,
     "metadata": {},
     "output_type": "execute_result"
    }
   ],
   "source": [
    "m4 = KNeighborsClassifier(n_neighbors=27)\n",
    "m4.fit(x_tr,y_tr)"
   ]
  },
  {
   "cell_type": "code",
   "execution_count": 25,
   "id": "2cb1c2f9",
   "metadata": {},
   "outputs": [
    {
     "name": "stdout",
     "output_type": "stream",
     "text": [
      "Training score 0.5629691409507923\n",
      "Testing score 0.545\n"
     ]
    }
   ],
   "source": [
    "print('Training score',m4.score(x_tr,y_tr))\n",
    "print('Testing score',m4.score(x_te,y_te))"
   ]
  },
  {
   "cell_type": "code",
   "execution_count": 26,
   "id": "5f97b022",
   "metadata": {},
   "outputs": [
    {
     "name": "stdout",
     "output_type": "stream",
     "text": [
      "[5 5 6 5 6 6 5 6 6 5 5 5 5 5 6 5 7 6 6 6 6 5 5 5 6 6 5 6 6 6 6 5 5 7 5 7 6\n",
      " 7 5 6 6 6 6 6 6 6 5 6 5 5 6 5 6 5 5 5 5 6 5 5 6 5 5 5 5 6 5 5 5 5 6 6 6 6\n",
      " 5 6 5 5 6 5 6 6 5 6 5 6 6 5 6 5 5 6 5 6 5 5 6 5 5 6 6 6 5 5 5 5 6 5 5 5 5\n",
      " 5 5 5 6 5 5 6 6 6 6 6 6 6 5 6 5 6 6 6 5 5 6 5 6 5 5 5 5 5 5 6 5 5 6 6 5 6\n",
      " 6 5 5 6 5 6 5 5 5 6 6 5 6 5 5 6 5 5 5 5 5 6 6 6 6 5 6 6 5 6 6 5 5 5 5 5 5\n",
      " 6 6 6 5 5 5 6 6 5 5 6 5 5 6 7 5 6 5 5 5 7 6 5 6 5 5 5 5 7 5 5 5 5 6 6 6 5\n",
      " 6 5 6 5 6 5 5 6 6 6 6 5 6 6 6 5 6 5 5 6 6 5 5 5 6 5 6 5 5 6 5 5 6 6 6 6 6\n",
      " 5 6 6 5 6 5 5 6 5 5 5 5 5 6 5 5 5 6 6 5 5 6 6 6 6 6 6 6 6 5 5 6 6 6 5 6 6\n",
      " 5 5 6 6 6 6 6 5 5 5 6 6 5 6 6 6 6 7 6 6 6 5 6 6 5 5 5 5 6 5 5 5 7 6 5 5 5\n",
      " 5 5 5 5 6 6 5 6 5 6 6 5 5 7 6 5 5 5 6 5 6 6 5 5 5 6 5 5 6 6 5 5 6 5 5 5 5\n",
      " 6 6 5 6 6 5 6 6 5 6 5 5 5 5 5 6 6 5 6 6 5 5 5 5 5 5 5 5 5 5]\n"
     ]
    }
   ],
   "source": [
    "ypred_m4 = m4.predict(x_te)\n",
    "print(ypred_m4)"
   ]
  },
  {
   "cell_type": "code",
   "execution_count": 27,
   "id": "6ee1154b",
   "metadata": {},
   "outputs": [
    {
     "name": "stdout",
     "output_type": "stream",
     "text": [
      "[[  0   0   2   1   0   0]\n",
      " [  0   0   4   3   2   0]\n",
      " [  0   0 127  44   1   0]\n",
      " [  0   0  66  89   5   0]\n",
      " [  0   0  12  39   2   0]\n",
      " [  0   0   1   2   0   0]]\n",
      "              precision    recall  f1-score   support\n",
      "\n",
      "           3       0.00      0.00      0.00         3\n",
      "           4       0.00      0.00      0.00         9\n",
      "           5       0.60      0.74      0.66       172\n",
      "           6       0.50      0.56      0.53       160\n",
      "           7       0.20      0.04      0.06        53\n",
      "           8       0.00      0.00      0.00         3\n",
      "\n",
      "    accuracy                           0.55       400\n",
      "   macro avg       0.22      0.22      0.21       400\n",
      "weighted avg       0.48      0.55      0.50       400\n",
      "\n"
     ]
    },
    {
     "name": "stderr",
     "output_type": "stream",
     "text": [
      "C:\\Users\\vaish\\OneDrive\\Desktop\\Anaconda\\lib\\site-packages\\sklearn\\metrics\\_classification.py:1318: UndefinedMetricWarning: Precision and F-score are ill-defined and being set to 0.0 in labels with no predicted samples. Use `zero_division` parameter to control this behavior.\n",
      "  _warn_prf(average, modifier, msg_start, len(result))\n",
      "C:\\Users\\vaish\\OneDrive\\Desktop\\Anaconda\\lib\\site-packages\\sklearn\\metrics\\_classification.py:1318: UndefinedMetricWarning: Precision and F-score are ill-defined and being set to 0.0 in labels with no predicted samples. Use `zero_division` parameter to control this behavior.\n",
      "  _warn_prf(average, modifier, msg_start, len(result))\n",
      "C:\\Users\\vaish\\OneDrive\\Desktop\\Anaconda\\lib\\site-packages\\sklearn\\metrics\\_classification.py:1318: UndefinedMetricWarning: Precision and F-score are ill-defined and being set to 0.0 in labels with no predicted samples. Use `zero_division` parameter to control this behavior.\n",
      "  _warn_prf(average, modifier, msg_start, len(result))\n"
     ]
    }
   ],
   "source": [
    "cm_m4 = confusion_matrix(y_te,ypred_m4)\n",
    "print(cm_m4)\n",
    "print(classification_report(y_te,ypred_m4))"
   ]
  },
  {
   "cell_type": "markdown",
   "id": "a7959623",
   "metadata": {},
   "source": [
    "### SVC"
   ]
  },
  {
   "cell_type": "code",
   "execution_count": 28,
   "id": "9f612a1a",
   "metadata": {},
   "outputs": [],
   "source": [
    "from sklearn.svm import SVC"
   ]
  },
  {
   "cell_type": "code",
   "execution_count": 29,
   "id": "780f5e56",
   "metadata": {},
   "outputs": [
    {
     "data": {
      "text/plain": [
       "SVC(C=1, kernel='linear')"
      ]
     },
     "execution_count": 29,
     "metadata": {},
     "output_type": "execute_result"
    }
   ],
   "source": [
    "m5 = SVC(kernel='linear',C=1)\n",
    "m5.fit(x_tr,y_tr)"
   ]
  },
  {
   "cell_type": "code",
   "execution_count": 30,
   "id": "ae7e7ef6",
   "metadata": {},
   "outputs": [
    {
     "data": {
      "text/plain": [
       "SVC(gamma=0.1)"
      ]
     },
     "execution_count": 30,
     "metadata": {},
     "output_type": "execute_result"
    }
   ],
   "source": [
    "m6 = SVC(kernel='rbf',gamma=0.1)\n",
    "m6.fit(x_tr,y_tr)"
   ]
  },
  {
   "cell_type": "code",
   "execution_count": 31,
   "id": "0538e313",
   "metadata": {},
   "outputs": [
    {
     "data": {
      "text/plain": [
       "SVC(kernel='poly')"
      ]
     },
     "execution_count": 31,
     "metadata": {},
     "output_type": "execute_result"
    }
   ],
   "source": [
    "m7 = SVC(kernel='poly')\n",
    "m7.fit(x_tr,y_tr)"
   ]
  },
  {
   "cell_type": "code",
   "execution_count": 32,
   "id": "0ff2f720",
   "metadata": {},
   "outputs": [
    {
     "name": "stdout",
     "output_type": "stream",
     "text": [
      "Training score 0.5838198498748958\n",
      "Testing score 0.5825\n"
     ]
    }
   ],
   "source": [
    "print('Training score',m5.score(x_tr,y_tr))\n",
    "print('Testing score',m5.score(x_te,y_te))"
   ]
  },
  {
   "cell_type": "code",
   "execution_count": 33,
   "id": "7da88058",
   "metadata": {},
   "outputs": [
    {
     "name": "stdout",
     "output_type": "stream",
     "text": [
      "[6 6 6 5 6 6 5 6 5 5 5 5 5 5 5 5 6 6 6 6 5 5 5 5 6 6 6 5 5 6 6 5 5 6 5 6 6\n",
      " 6 6 5 5 5 6 5 5 6 6 5 5 5 5 5 6 5 5 6 5 6 5 5 6 5 5 5 6 5 5 5 5 5 5 6 6 6\n",
      " 5 5 5 6 6 5 6 6 5 6 5 6 6 5 5 6 5 6 5 5 5 5 5 5 5 6 6 6 6 5 5 6 6 5 5 5 5\n",
      " 6 6 5 6 5 5 5 5 6 5 5 5 5 5 6 6 5 5 6 5 6 5 5 6 5 5 6 5 6 5 5 5 5 6 6 5 5\n",
      " 6 5 5 6 6 6 5 5 5 6 6 5 6 5 6 6 5 5 5 5 6 5 5 5 6 5 6 6 5 6 5 5 6 6 5 5 5\n",
      " 5 5 5 5 5 5 6 6 6 6 5 5 5 6 5 5 6 6 5 6 6 6 6 5 5 5 5 5 6 5 5 5 6 6 5 6 5\n",
      " 6 5 5 5 6 5 5 5 6 6 5 5 6 5 5 5 6 5 6 5 6 5 6 5 6 6 6 5 5 6 6 6 6 6 6 5 6\n",
      " 5 5 6 6 6 6 5 5 6 5 5 5 5 6 5 5 5 6 6 6 6 5 6 6 6 6 6 5 5 6 5 6 5 6 5 6 6\n",
      " 6 5 6 6 5 6 6 6 6 5 6 6 5 6 5 6 6 6 6 6 6 5 6 5 5 5 6 6 6 6 5 5 6 6 6 5 6\n",
      " 6 5 5 5 6 5 6 5 5 6 6 5 5 6 6 5 5 6 6 5 6 6 6 5 5 6 5 5 6 5 5 5 6 5 5 6 5\n",
      " 6 5 5 5 6 5 5 6 5 6 5 5 5 5 5 6 6 5 6 5 5 5 5 6 5 5 6 5 5 5]\n"
     ]
    }
   ],
   "source": [
    "ypred_m5 = m5.predict(x_te)\n",
    "print(ypred_m5)"
   ]
  },
  {
   "cell_type": "code",
   "execution_count": 34,
   "id": "46514b27",
   "metadata": {},
   "outputs": [
    {
     "name": "stdout",
     "output_type": "stream",
     "text": [
      "[[  0   0   3   0   0   0]\n",
      " [  0   0   7   2   0   0]\n",
      " [  0   0 140  32   0   0]\n",
      " [  0   0  67  93   0   0]\n",
      " [  0   0   4  49   0   0]\n",
      " [  0   0   0   3   0   0]]\n",
      "              precision    recall  f1-score   support\n",
      "\n",
      "           3       0.00      0.00      0.00         3\n",
      "           4       0.00      0.00      0.00         9\n",
      "           5       0.63      0.81      0.71       172\n",
      "           6       0.52      0.58      0.55       160\n",
      "           7       0.00      0.00      0.00        53\n",
      "           8       0.00      0.00      0.00         3\n",
      "\n",
      "    accuracy                           0.58       400\n",
      "   macro avg       0.19      0.23      0.21       400\n",
      "weighted avg       0.48      0.58      0.53       400\n",
      "\n"
     ]
    },
    {
     "name": "stderr",
     "output_type": "stream",
     "text": [
      "C:\\Users\\vaish\\OneDrive\\Desktop\\Anaconda\\lib\\site-packages\\sklearn\\metrics\\_classification.py:1318: UndefinedMetricWarning: Precision and F-score are ill-defined and being set to 0.0 in labels with no predicted samples. Use `zero_division` parameter to control this behavior.\n",
      "  _warn_prf(average, modifier, msg_start, len(result))\n",
      "C:\\Users\\vaish\\OneDrive\\Desktop\\Anaconda\\lib\\site-packages\\sklearn\\metrics\\_classification.py:1318: UndefinedMetricWarning: Precision and F-score are ill-defined and being set to 0.0 in labels with no predicted samples. Use `zero_division` parameter to control this behavior.\n",
      "  _warn_prf(average, modifier, msg_start, len(result))\n",
      "C:\\Users\\vaish\\OneDrive\\Desktop\\Anaconda\\lib\\site-packages\\sklearn\\metrics\\_classification.py:1318: UndefinedMetricWarning: Precision and F-score are ill-defined and being set to 0.0 in labels with no predicted samples. Use `zero_division` parameter to control this behavior.\n",
      "  _warn_prf(average, modifier, msg_start, len(result))\n"
     ]
    }
   ],
   "source": [
    "cm_m5 = confusion_matrix(y_te,ypred_m5)\n",
    "print(cm_m5)\n",
    "print(classification_report(y_te,ypred_m5))"
   ]
  },
  {
   "cell_type": "markdown",
   "id": "d2b0a945",
   "metadata": {},
   "source": [
    "## Comparison and Final Conclusion"
   ]
  },
  {
   "cell_type": "code",
   "execution_count": 35,
   "id": "ae93515e",
   "metadata": {},
   "outputs": [
    {
     "name": "stdout",
     "output_type": "stream",
     "text": [
      "DT Acc 0.58\n",
      "RF Acc 0.6275\n",
      "LogReg Acc 0.57\n",
      "KNN Acc 0.545\n",
      "SVM Acc 0.5825\n"
     ]
    }
   ],
   "source": [
    "print('DT Acc',m1.score(x_te,y_te))\n",
    "print('RF Acc',m2.score(x_te,y_te))\n",
    "print('LogReg Acc',m3.score(x_te,y_te))\n",
    "print('KNN Acc',m4.score(x_te,y_te))\n",
    "print('SVM Acc',m5.score(x_te,y_te))"
   ]
  },
  {
   "cell_type": "code",
   "execution_count": 36,
   "id": "7f4dcbeb",
   "metadata": {},
   "outputs": [],
   "source": [
    "from sklearn.metrics import precision_score,accuracy_score"
   ]
  },
  {
   "cell_type": "code",
   "execution_count": 37,
   "id": "639886b4",
   "metadata": {},
   "outputs": [
    {
     "name": "stdout",
     "output_type": "stream",
     "text": [
      "DT Precision 0.2922427053726354\n",
      "RF Precision 0.3324040259119169\n",
      "LogReg Precision 0.24555417700578988\n",
      "KNN Precision 0.21650943396226416\n",
      "SVM Precision 0.19217287258693763\n"
     ]
    },
    {
     "name": "stderr",
     "output_type": "stream",
     "text": [
      "C:\\Users\\vaish\\OneDrive\\Desktop\\Anaconda\\lib\\site-packages\\sklearn\\metrics\\_classification.py:1318: UndefinedMetricWarning: Precision is ill-defined and being set to 0.0 in labels with no predicted samples. Use `zero_division` parameter to control this behavior.\n",
      "  _warn_prf(average, modifier, msg_start, len(result))\n",
      "C:\\Users\\vaish\\OneDrive\\Desktop\\Anaconda\\lib\\site-packages\\sklearn\\metrics\\_classification.py:1318: UndefinedMetricWarning: Precision is ill-defined and being set to 0.0 in labels with no predicted samples. Use `zero_division` parameter to control this behavior.\n",
      "  _warn_prf(average, modifier, msg_start, len(result))\n",
      "C:\\Users\\vaish\\OneDrive\\Desktop\\Anaconda\\lib\\site-packages\\sklearn\\metrics\\_classification.py:1318: UndefinedMetricWarning: Precision is ill-defined and being set to 0.0 in labels with no predicted samples. Use `zero_division` parameter to control this behavior.\n",
      "  _warn_prf(average, modifier, msg_start, len(result))\n",
      "C:\\Users\\vaish\\OneDrive\\Desktop\\Anaconda\\lib\\site-packages\\sklearn\\metrics\\_classification.py:1318: UndefinedMetricWarning: Precision is ill-defined and being set to 0.0 in labels with no predicted samples. Use `zero_division` parameter to control this behavior.\n",
      "  _warn_prf(average, modifier, msg_start, len(result))\n",
      "C:\\Users\\vaish\\OneDrive\\Desktop\\Anaconda\\lib\\site-packages\\sklearn\\metrics\\_classification.py:1318: UndefinedMetricWarning: Precision is ill-defined and being set to 0.0 in labels with no predicted samples. Use `zero_division` parameter to control this behavior.\n",
      "  _warn_prf(average, modifier, msg_start, len(result))\n"
     ]
    }
   ],
   "source": [
    "print('DT Precision',precision_score(y_te,ypred_m1,average='macro'))\n",
    "print('RF Precision',precision_score(y_te,ypred_m2,average='macro'))\n",
    "print('LogReg Precision',precision_score(y_te,ypred_m3,average='macro'))\n",
    "print('KNN Precision',precision_score(y_te,ypred_m4,average='macro'))\n",
    "print('SVM Precision',precision_score(y_te,ypred_m5,average='macro'))"
   ]
  },
  {
   "cell_type": "code",
   "execution_count": 38,
   "id": "044e5bd4",
   "metadata": {},
   "outputs": [
    {
     "name": "stdout",
     "output_type": "stream",
     "text": [
      "              precision    recall  f1-score   support\n",
      "\n",
      "           3       0.00      0.00      0.00         3\n",
      "           4       0.00      0.00      0.00         9\n",
      "           5       0.63      0.81      0.71       172\n",
      "           6       0.52      0.58      0.55       160\n",
      "           7       0.00      0.00      0.00        53\n",
      "           8       0.00      0.00      0.00         3\n",
      "\n",
      "    accuracy                           0.58       400\n",
      "   macro avg       0.19      0.23      0.21       400\n",
      "weighted avg       0.48      0.58      0.53       400\n",
      "\n"
     ]
    },
    {
     "name": "stderr",
     "output_type": "stream",
     "text": [
      "C:\\Users\\vaish\\OneDrive\\Desktop\\Anaconda\\lib\\site-packages\\sklearn\\metrics\\_classification.py:1318: UndefinedMetricWarning: Precision and F-score are ill-defined and being set to 0.0 in labels with no predicted samples. Use `zero_division` parameter to control this behavior.\n",
      "  _warn_prf(average, modifier, msg_start, len(result))\n",
      "C:\\Users\\vaish\\OneDrive\\Desktop\\Anaconda\\lib\\site-packages\\sklearn\\metrics\\_classification.py:1318: UndefinedMetricWarning: Precision and F-score are ill-defined and being set to 0.0 in labels with no predicted samples. Use `zero_division` parameter to control this behavior.\n",
      "  _warn_prf(average, modifier, msg_start, len(result))\n",
      "C:\\Users\\vaish\\OneDrive\\Desktop\\Anaconda\\lib\\site-packages\\sklearn\\metrics\\_classification.py:1318: UndefinedMetricWarning: Precision and F-score are ill-defined and being set to 0.0 in labels with no predicted samples. Use `zero_division` parameter to control this behavior.\n",
      "  _warn_prf(average, modifier, msg_start, len(result))\n"
     ]
    }
   ],
   "source": [
    "print(classification_report(y_te,ypred_m5))"
   ]
  }
 ],
 "metadata": {
  "kernelspec": {
   "display_name": "Python 3 (ipykernel)",
   "language": "python",
   "name": "python3"
  },
  "language_info": {
   "codemirror_mode": {
    "name": "ipython",
    "version": 3
   },
   "file_extension": ".py",
   "mimetype": "text/x-python",
   "name": "python",
   "nbconvert_exporter": "python",
   "pygments_lexer": "ipython3",
   "version": "3.9.7"
  }
 },
 "nbformat": 4,
 "nbformat_minor": 5
}
